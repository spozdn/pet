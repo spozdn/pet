{
 "cells": [
  {
   "cell_type": "code",
   "execution_count": 1,
   "metadata": {},
   "outputs": [],
   "source": [
    "import ase.io\n",
    "from pet.hypers import load_hypers_from_file\n",
    "from pet.data_preparation import get_all_species\n",
    "from pet.pet import PET, PETUtilityWrapper, PETMLIPWrapper\n",
    "import torch\n",
    "from pet.molecule import MoleculeCPP, Molecule\n",
    "from matscipy.neighbours import neighbour_list as neighbor_list\n",
    "torch.set_default_dtype(torch.float64)"
   ]
  },
  {
   "cell_type": "code",
   "execution_count": 2,
   "metadata": {},
   "outputs": [],
   "source": [
    "device = torch.device(\"cuda:0\" if torch.cuda.is_available() else \"cpu\")\n",
    "def prepare_test(stucture_path, r_cut, n_gnn, n_trans, hypers_path = \"../default_hypers/default_hypers.yaml\"):\n",
    "    structure = ase.io.read(stucture_path, index=0)\n",
    "    hypers = load_hypers_from_file(hypers_path)\n",
    "    \n",
    "\n",
    "    MLIP_SETTINGS = hypers.MLIP_SETTINGS\n",
    "    ARCHITECTURAL_HYPERS = hypers.ARCHITECTURAL_HYPERS\n",
    "    FITTING_SCHEME = hypers.FITTING_SCHEME\n",
    "\n",
    "    ARCHITECTURAL_HYPERS.D_OUTPUT = 1  # energy is a single scalar\n",
    "    ARCHITECTURAL_HYPERS.TARGET_TYPE = \"structural\"  # energy is structural property\n",
    "    ARCHITECTURAL_HYPERS.TARGET_AGGREGATION = (\n",
    "        \"sum\"  # energy is a sum of atomic energies\n",
    "    )\n",
    "    ARCHITECTURAL_HYPERS.R_CUT = r_cut\n",
    "    ARCHITECTURAL_HYPERS.N_TRANS_LAYERS = n_trans\n",
    "    ARCHITECTURAL_HYPERS.N_GNN_LAYERS = n_gnn\n",
    "    all_species = get_all_species([structure])\n",
    "\n",
    "\n",
    "    model = PET(ARCHITECTURAL_HYPERS, 0.0, len(all_species)).to(device)\n",
    "    model = PETUtilityWrapper(model, FITTING_SCHEME.GLOBAL_AUG)\n",
    "\n",
    "    model = PETMLIPWrapper(\n",
    "        model, MLIP_SETTINGS.USE_ENERGIES, MLIP_SETTINGS.USE_FORCES\n",
    "    )\n",
    "    return model, structure, all_species, ARCHITECTURAL_HYPERS\n",
    "\n",
    "\n",
    "\n"
   ]
  },
  {
   "cell_type": "code",
   "execution_count": 3,
   "metadata": {},
   "outputs": [],
   "source": [
    "def get_predictions_old_python(model, structure, all_species, ARCHITECTURAL_HYPERS):\n",
    "    \n",
    "    molecule = Molecule(\n",
    "        structure,\n",
    "        ARCHITECTURAL_HYPERS.R_CUT,\n",
    "        ARCHITECTURAL_HYPERS.USE_ADDITIONAL_SCALAR_ATTRIBUTES,\n",
    "        ARCHITECTURAL_HYPERS.USE_LONG_RANGE,\n",
    "        ARCHITECTURAL_HYPERS.K_CUT,\n",
    "    )\n",
    "    if ARCHITECTURAL_HYPERS.USE_LONG_RANGE:\n",
    "        raise NotImplementedError(\n",
    "            \"Long range interactions are not supported in the SingleStructCalculator\"\n",
    "        )\n",
    "\n",
    "    graph = molecule.get_graph(\n",
    "        molecule.get_max_num(), all_species, None\n",
    "    )\n",
    "    graph.batch = torch.zeros(\n",
    "        graph.num_nodes, dtype=torch.long, device=graph.x.device\n",
    "    )\n",
    "    graph = graph.to(device)\n",
    "    prediction_energy, prediction_forces = model(\n",
    "        graph, augmentation=False, create_graph=False\n",
    "    )\n",
    "\n",
    "    return prediction_energy, prediction_forces, graph\n",
    "\n",
    "def get_predictions_cpp(model, structure, all_species, ARCHITECTURAL_HYPERS):\n",
    "    \n",
    "    molecule = MoleculeCPP(\n",
    "        structure,\n",
    "        ARCHITECTURAL_HYPERS.R_CUT,\n",
    "        ARCHITECTURAL_HYPERS.USE_ADDITIONAL_SCALAR_ATTRIBUTES,\n",
    "        ARCHITECTURAL_HYPERS.USE_LONG_RANGE,\n",
    "        ARCHITECTURAL_HYPERS.K_CUT,\n",
    "    )\n",
    "    if ARCHITECTURAL_HYPERS.USE_LONG_RANGE:\n",
    "        raise NotImplementedError(\n",
    "            \"Long range interactions are not supported in the SingleStructCalculator\"\n",
    "        )\n",
    "\n",
    "    graph = molecule.get_graph(\n",
    "        molecule.get_max_num(), all_species, None\n",
    "    )\n",
    "    graph.batch = torch.zeros(\n",
    "        graph.num_nodes, dtype=torch.long, device=graph.x.device\n",
    "    )\n",
    "    graph = graph.to(device)\n",
    "    prediction_energy, prediction_forces = model(\n",
    "        graph, augmentation=False, create_graph=False\n",
    "    )\n",
    "\n",
    "    return prediction_energy, prediction_forces, graph"
   ]
  },
  {
   "cell_type": "code",
   "execution_count": 4,
   "metadata": {},
   "outputs": [
    {
     "name": "stdout",
     "output_type": "stream",
     "text": [
      "Energy difference:  tensor([0.], device='cuda:0', grad_fn=<AbsBackward0>)\n",
      "Forces difference:  tensor(0., device='cuda:0')\n"
     ]
    }
   ],
   "source": [
    "model, structure, all_species, ARCHITECTURAL_HYPERS = prepare_test(\"../example/methane_train.xyz\", 10.0, 2, 2)\n",
    "python_energy, python_forces, python_graph = get_predictions_old_python(model, structure, all_species, ARCHITECTURAL_HYPERS)\n",
    "cpp_energy, cpp_forces, cpp_graph = get_predictions_cpp(model, structure, all_species, ARCHITECTURAL_HYPERS)\n",
    "\n",
    "print(\"Energy difference: \", torch.abs(python_energy - cpp_energy))\n",
    "print(\"Forces difference: \", torch.abs(python_forces - cpp_forces).max())"
   ]
  },
  {
   "cell_type": "code",
   "execution_count": 5,
   "metadata": {},
   "outputs": [
    {
     "name": "stdout",
     "output_type": "stream",
     "text": [
      "Energy difference:  tensor([1.1369e-13], device='cuda:0', grad_fn=<AbsBackward0>)\n",
      "Forces difference:  tensor(4.3097e-14, device='cuda:0')\n",
      "Forces spread:  tensor(1.2995, device='cuda:0')\n"
     ]
    }
   ],
   "source": [
    "model, structure, all_species, ARCHITECTURAL_HYPERS = prepare_test(\"bulk.xyz\", 4.0, 2, 2)\n",
    "python_energy, python_forces, python_graph = get_predictions_old_python(model, structure, all_species, ARCHITECTURAL_HYPERS)\n",
    "cpp_energy, cpp_forces, cpp_graph = get_predictions_cpp(model, structure, all_species, ARCHITECTURAL_HYPERS)\n",
    "\n",
    "print(\"Energy difference: \", torch.abs(python_energy - cpp_energy))\n",
    "print(\"Forces difference: \", torch.abs(python_forces - cpp_forces).max())\n",
    "\n",
    "print(\"Forces spread: \", torch.abs(python_forces).max())"
   ]
  },
  {
   "cell_type": "code",
   "execution_count": null,
   "metadata": {},
   "outputs": [],
   "source": []
  },
  {
   "cell_type": "code",
   "execution_count": null,
   "metadata": {},
   "outputs": [],
   "source": []
  },
  {
   "cell_type": "code",
   "execution_count": null,
   "metadata": {},
   "outputs": [],
   "source": []
  },
  {
   "cell_type": "code",
   "execution_count": null,
   "metadata": {},
   "outputs": [],
   "source": []
  }
 ],
 "metadata": {
  "kernelspec": {
   "display_name": "Python 3 (ipykernel)",
   "language": "python",
   "name": "python3"
  },
  "language_info": {
   "codemirror_mode": {
    "name": "ipython",
    "version": 3
   },
   "file_extension": ".py",
   "mimetype": "text/x-python",
   "name": "python",
   "nbconvert_exporter": "python",
   "pygments_lexer": "ipython3",
   "version": "3.10.12"
  }
 },
 "nbformat": 4,
 "nbformat_minor": 2
}
